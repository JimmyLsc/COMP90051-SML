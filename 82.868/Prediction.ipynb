{
 "cells": [
  {
   "cell_type": "code",
   "execution_count": 1,
   "metadata": {
    "scrolled": true
   },
   "outputs": [
    {
     "name": "stdout",
     "output_type": "stream",
     "text": [
      "[1.11811024e+00 5.34510433e-01 3.48923534e-02 1.48862525e+01\n",
      " 9.40000000e+01 4.00000000e+00 1.00000000e+00]\n",
      "[0. 0. 0. 0. 0. 0. 0.]\n"
     ]
    }
   ],
   "source": [
    "import numpy as np\n",
    "\n",
    "from sklearn.linear_model import LogisticRegression\n",
    "with np.load('new_result_1000.npz') as fd:\n",
    "    a = fd[\"result\"]\n",
    "print(a[0])\n",
    "np.random.shuffle(a)\n",
    "print(a[0])\n"
   ]
  },
  {
   "cell_type": "code",
   "execution_count": 2,
   "metadata": {},
   "outputs": [
    {
     "data": {
      "text/plain": [
       "LogisticRegression(C=1.0, class_weight=None, dual=False, fit_intercept=True,\n",
       "          intercept_scaling=1, max_iter=100, multi_class='ovr', n_jobs=1,\n",
       "          penalty='l2', random_state=None, solver='liblinear', tol=0.0001,\n",
       "          verbose=0, warm_start=False)"
      ]
     },
     "execution_count": 2,
     "metadata": {},
     "output_type": "execute_result"
    }
   ],
   "source": [
    "X_train=a[:,0:len(a[0])-1]\n",
    "\n",
    "Y_train=a[:,len(a[0])-1]\n",
    "\n",
    "# y= Y_train.reshape((len(Y_train),1))\n",
    "clf = LogisticRegression()\n",
    "clf.fit(X_train, Y_train)"
   ]
  },
  {
   "cell_type": "code",
   "execution_count": 3,
   "metadata": {},
   "outputs": [
    {
     "name": "stdout",
     "output_type": "stream",
     "text": [
      "7\n",
      "[0. 0. 0. 1. 0. 1. 0. 1. 0. 1. 1. 1. 0. 1. 1. 0. 1. 0. 1. 0. 1. 1. 1. 1.\n",
      " 0. 0. 1. 0. 0. 0. 1. 1. 0. 0. 0. 0. 1. 0. 0. 1. 1. 1. 1. 0. 1. 0. 0. 0.\n",
      " 0. 0. 1. 0. 0. 0. 1. 1. 1. 0. 0. 1. 1. 0. 0. 0. 1. 0. 1. 0. 1. 0. 1. 0.\n",
      " 0. 0. 1. 0. 0. 1. 0. 0. 0. 1. 0. 1. 0. 0. 0. 0. 0. 0. 1. 1. 0. 1. 0. 1.\n",
      " 0. 1. 0. 1.]\n"
     ]
    }
   ],
   "source": [
    "print (len(a[0]))\n",
    "print (Y_train[0:100])"
   ]
  },
  {
   "cell_type": "code",
   "execution_count": 4,
   "metadata": {},
   "outputs": [
    {
     "name": "stdout",
     "output_type": "stream",
     "text": [
      "125\n",
      "finishing!\n"
     ]
    }
   ],
   "source": [
    "with np.load('new_test_features.npz') as fd:\n",
    "    testmatrix= fd[\"testresult\"]\n",
    "    \n",
    "counter = 0\n",
    "for i in clf.predict(testmatrix):\n",
    "    if i==1:\n",
    "        counter+=1\n",
    "print (counter)\n",
    "\n",
    "temp = clf.predict_proba(testmatrix).tolist()\n",
    "\n",
    "\n",
    "import csv\n",
    "\n",
    "with open('new_final_result.csv', 'w',newline ='') as csvfile:\n",
    "    writer = csv.writer(csvfile)\n",
    "    # Id, Prediction\n",
    "    line_title = []\n",
    "    line_title.append('Id')\n",
    "    line_title.append('Prediction')\n",
    "    writer.writerow(line_title)\n",
    "    index = 0\n",
    "    for item in temp:\n",
    "        index += 1\n",
    "        temp_list = []\n",
    "        temp_list.append(index)\n",
    "        temp_list.append(\"%.9f\" % item[1])\n",
    "        writer.writerow(temp_list)\n",
    "    csvfile.close()\n",
    "    print('finishing!')   "
   ]
  },
  {
   "cell_type": "code",
   "execution_count": null,
   "metadata": {
    "scrolled": true
   },
   "outputs": [],
   "source": [
    "from sklearn.neural_network import MLPClassifier\n",
    "\n",
    "mlp = MLPClassifier(solver='sgd', activation='logistic',alpha=1e-3,hidden_layer_sizes=(3), random_state=1,max_iter=50,verbose=10,learning_rate_init=.001)\n",
    "mlp.fit(X_train, Y_train)                         \n",
    "print (mlp.n_layers_)\n",
    "print (mlp.n_iter_)\n",
    "print (mlp.loss_)\n",
    "print (mlp.out_activation_)"
   ]
  },
  {
   "cell_type": "code",
   "execution_count": null,
   "metadata": {
    "scrolled": true
   },
   "outputs": [],
   "source": [
    "temp = mlp.predict_proba(testmatrix).tolist()\n",
    "\n",
    "\n",
    "import csv\n",
    "\n",
    "with open('nn_final_result.csv', 'w',newline ='') as csvfile:\n",
    "    writer = csv.writer(csvfile)\n",
    "    # Id, Prediction\n",
    "    line_title = []\n",
    "    line_title.append('Id')\n",
    "    line_title.append('Prediction')\n",
    "    writer.writerow(line_title)\n",
    "    index = 0\n",
    "    for item in temp:\n",
    "        index += 1\n",
    "        temp_list = []\n",
    "        temp_list.append(index)\n",
    "        temp_list.append(\"%.9f\" % item[1])\n",
    "        writer.writerow(temp_list)\n",
    "    csvfile.close()\n",
    "    print('finishing!')   "
   ]
  },
  {
   "cell_type": "code",
   "execution_count": null,
   "metadata": {},
   "outputs": [],
   "source": [
    "from sklearn import svm\n",
    "\n",
    "clf = svm.SVC()\n",
    "clf = clf.fit(X_train, Y_train)"
   ]
  },
  {
   "cell_type": "code",
   "execution_count": null,
   "metadata": {},
   "outputs": [],
   "source": [
    "temp = clf.predict_proba(testmatrix).tolist()\n",
    "\n",
    "\n",
    "import csv\n",
    "\n",
    "with open('new_final_result_dt.csv', 'w',newline ='') as csvfile:\n",
    "    writer = csv.writer(csvfile)\n",
    "    # Id, Prediction\n",
    "    line_title = []\n",
    "    line_title.append('Id')\n",
    "    line_title.append('Prediction')\n",
    "    writer.writerow(line_title)\n",
    "    index = 0\n",
    "    for item in temp:\n",
    "        index += 1\n",
    "        temp_list = []\n",
    "        temp_list.append(index)\n",
    "        temp_list.append(\"%.9f\" % item[1])\n",
    "        writer.writerow(temp_list)\n",
    "    csvfile.close()\n",
    "    print('finishing!')"
   ]
  },
  {
   "cell_type": "code",
   "execution_count": null,
   "metadata": {},
   "outputs": [],
   "source": [
    "print (temp)"
   ]
  },
  {
   "cell_type": "code",
   "execution_count": null,
   "metadata": {},
   "outputs": [],
   "source": []
  }
 ],
 "metadata": {
  "kernelspec": {
   "display_name": "Python 3",
   "language": "python",
   "name": "python3"
  },
  "language_info": {
   "codemirror_mode": {
    "name": "ipython",
    "version": 3
   },
   "file_extension": ".py",
   "mimetype": "text/x-python",
   "name": "python",
   "nbconvert_exporter": "python",
   "pygments_lexer": "ipython3",
   "version": "3.6.5"
  }
 },
 "nbformat": 4,
 "nbformat_minor": 2
}
