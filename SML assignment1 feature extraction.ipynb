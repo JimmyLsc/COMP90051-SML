{
 "cells": [
  {
   "cell_type": "code",
   "execution_count": 35,
   "metadata": {},
   "outputs": [],
   "source": [
    "import numpy as np\n",
    "import pandas as pd\n",
    "import os\n",
    "from collections import defaultdict"
   ]
  },
  {
   "cell_type": "code",
   "execution_count": 36,
   "metadata": {},
   "outputs": [
    {
     "name": "stdout",
     "output_type": "stream",
     "text": [
      "0\n",
      "1000\n",
      "2000\n",
      "3000\n",
      "4000\n",
      "5000\n",
      "6000\n",
      "7000\n",
      "8000\n",
      "9000\n",
      "10000\n",
      "11000\n",
      "12000\n",
      "13000\n",
      "14000\n",
      "15000\n",
      "16000\n",
      "17000\n",
      "18000\n",
      "19000\n"
     ]
    }
   ],
   "source": [
    "vertex_set = set();\n",
    "vertex_dict = {}\n",
    "vertex_followlist ={}\n",
    "sink_dict = {};\n",
    "sink_followedlist = defaultdict(list)\n",
    "\n",
    "with open(\"train.txt\") as trainfile:\n",
    "    for i, line in enumerate(trainfile):\n",
    "        line_list = [int(k) for k in line[:-1].split(\"\\t\")];\n",
    "        vertex_dict[line_list[0]]=len(line_list)-1\n",
    "        vertex_set.add(line_list[0]);\n",
    "        vertex_followlist[line_list[0]]= line_list[1:]\n",
    "        for s in line_list[1:]:\n",
    "            sink_followedlist[s].append(line_list[0])\n",
    "            if s in sink_dict:\n",
    "                sink_dict[s] += 1;\n",
    "            else:\n",
    "                sink_dict[s] = 1;\n",
    "        if i % 1000 == 0:\n",
    "            print(i);"
   ]
  },
  {
   "cell_type": "code",
   "execution_count": 37,
   "metadata": {},
   "outputs": [
    {
     "name": "stdout",
     "output_type": "stream",
     "text": [
      "1\n",
      "20000\n"
     ]
    }
   ],
   "source": [
    "print(sink_dict[4867135]);\n",
    "print(len(vertex_set));"
   ]
  },
  {
   "cell_type": "code",
   "execution_count": 38,
   "metadata": {},
   "outputs": [],
   "source": [
    "# new_sink_dict = {};\n",
    "# threshold = 10;\n",
    "# for k in sink_dict:\n",
    "#     if sink_dict[k] >= threshold:\n",
    "#         new_sink_dict[k] = sink_dict[k];\n",
    "        \n",
    "# new_sink_set = set(new_sink_dict);\n",
    "# print(len(new_sink_set))"
   ]
  },
  {
   "cell_type": "code",
   "execution_count": 39,
   "metadata": {
    "scrolled": true
   },
   "outputs": [],
   "source": [
    "# test_vertex_and_sink_set = set();\n",
    "\n",
    "# with open(\"test-public.txt\") as testfile:\n",
    "#     for i, line in enumerate(testfile):\n",
    "#         if i == 0:\n",
    "#             continue;\n",
    "#         line_list = [int(k) for k in line[:-1].split(\"\\t\")];\n",
    "#         for s in line_list:\n",
    "#             test_vertex_and_sink_set.add(s);\n",
    "# print(len(test_vertex_and_sink_set));\n",
    "\n",
    "# total_set = test_vertex_and_sink_set.union(new_sink_set).union(vertex_set);\n",
    "# print(len(total_set));"
   ]
  },
  {
   "cell_type": "code",
   "execution_count": 84,
   "metadata": {},
   "outputs": [
    {
     "data": {
      "text/plain": [
       "(18, 0, 18, 0, 0.001990049751243781, 1.8320899639845865)"
      ]
     },
     "execution_count": 84,
     "metadata": {},
     "output_type": "execute_result"
    }
   ],
   "source": [
    "def findneighbor(a,b):\n",
    "    import math\n",
    "    \"\"\"\n",
    "    c is common friend\n",
    "    1.a→c→b\n",
    "    2.a→c←b\n",
    "    3.a←c→b\n",
    "    4.a←c←b\n",
    "    5. Jaccard's coeffcient common friends/total friends\n",
    "    6. Adamic/Adar \n",
    "    \"\"\"\n",
    "    tempA,tempB = [],[]\n",
    "    count6=0\n",
    "    count7=0\n",
    "    \n",
    "    if a in vertex_followlist:\n",
    "        tempA = vertex_followlist[a]\n",
    "    if b in vertex_followlist:\n",
    "        tempB = vertex_followlist[b]\n",
    "    count1,count2,count3,count4,count5 = 0,0,0,0,0\n",
    "\n",
    "    \n",
    "    if tempA !=None:\n",
    "        for i in tempA:\n",
    "            if i in vertex_followlist:\n",
    "                if b in vertex_followlist[i]:\n",
    "                    count1+=1\n",
    "    \n",
    "    count2 = len(set(tempA).intersection(tempB))\n",
    "    if a in sink_followedlist and b in sink_followedlist:\n",
    "        count3 = len(set(sink_followedlist[a]).intersection(sink_followedlist[b]))\n",
    "        totalA = set().union(sink_followedlist[a],tempA)\n",
    "        totalB = set().union(sink_followedlist[b],tempB)\n",
    "        commonFriends = list(set(totalA).intersection(totalB))\n",
    "        for commonFriend in commonFriends:\n",
    "            if commonFriend in vertex_dict:\n",
    "                if commonFriend in sink_dict:\n",
    "                    freq_comfri=vertex_dict[commonFriend]+sink_dict[commonFriend]\n",
    "                else:\n",
    "                    freq_comfri=vertex_dict[commonFriend]\n",
    "            else: \n",
    "                if commonFriend in sink_dict:\n",
    "                    freq_comfri=sink_dict[commonFriend]\n",
    "                else:\n",
    "                    freq_comfri=1\n",
    "            count6+=1/math.log(freq_comfri)\n",
    "            \n",
    "        total_AB = len(totalA.union(totalB))\n",
    "        \"\"\"\"\"\"\n",
    "#         \"BFS\"       \n",
    "#         for x in list(totalA)\n",
    "#             if b in list(totalA):\n",
    "#                 count7=1\n",
    "#             else:\n",
    "#                 x_neighbour_list=list(set(vertex_followlist[x]).union(sink_followedlist[x]))\n",
    "#                 if b in x_neighbour_list:\n",
    "#                     \"here should be a BFS to calculate the graph distance\"        \n",
    "        \"\"\"\"\"\"\n",
    "   \n",
    "    for i in tempB:\n",
    "        if i in vertex_followlist:\n",
    "            if a in vertex_followlist[i]:\n",
    "                count4+=1\n",
    "                \n",
    "#     commonFriends = count1+count2+count3+count4\n",
    "    count5 = len(commonFriends)/total_AB\n",
    "    \n",
    "    return (count1,count2,count3,count4,count5,count6)\n",
    "findneighbor(933347,1131654)"
   ]
  },
  {
   "cell_type": "code",
   "execution_count": 85,
   "metadata": {},
   "outputs": [
    {
     "data": {
      "text/plain": [
       "(84, 16, 14, 24, 5.25, 0.5833333333333334, 0)"
      ]
     },
     "execution_count": 85,
     "metadata": {},
     "output_type": "execute_result"
    }
   ],
   "source": [
    "def countFollowingFollower(a,b):\n",
    "    \"\"\"return \n",
    "    1. a following count \n",
    "    2. a followed count\n",
    "    3. b following count\n",
    "    4. b followed count\n",
    "    5. a following/a followed\n",
    "    6. b following/b followed\n",
    "    7. if b following a\n",
    "\n",
    "    \"\"\"\n",
    "    count1,count2,count3,count4,count5,count6,count7=0,0,0,0,0,0,0\n",
    "    if a in vertex_dict:\n",
    "        count1 = vertex_dict[a]\n",
    "    if b in vertex_dict:\n",
    "        count3 = vertex_dict[b]\n",
    "    if a in sink_dict:\n",
    "        count2 = sink_dict[a]\n",
    "    if b in sink_dict:\n",
    "        count4 = sink_dict[b]\n",
    "    if count2!=0:\n",
    "        count5 = count1/count2\n",
    "    else:\n",
    "        count5 = count1\n",
    "    if count4!=0:\n",
    "        count6 = count3/count4\n",
    "    else:\n",
    "        count6 = count2\n",
    "    if b in vertex_followlist:    \n",
    "        if a in vertex_followlist[b]:\n",
    "            count7=1\n",
    "    return (count1,count2,count3,count4,count5,count6,count7)\n",
    "countFollowingFollower(1406432,2481036)"
   ]
  },
  {
   "cell_type": "code",
   "execution_count": null,
   "metadata": {},
   "outputs": [],
   "source": [
    "def distance(a,b):\n",
    "    vertex_followlist\n",
    "    "
   ]
  }
 ],
 "metadata": {
  "kernelspec": {
   "display_name": "Python 3",
   "language": "python",
   "name": "python3"
  },
  "language_info": {
   "codemirror_mode": {
    "name": "ipython",
    "version": 3
   },
   "file_extension": ".py",
   "mimetype": "text/x-python",
   "name": "python",
   "nbconvert_exporter": "python",
   "pygments_lexer": "ipython3",
   "version": "3.6.5"
  }
 },
 "nbformat": 4,
 "nbformat_minor": 2
}
