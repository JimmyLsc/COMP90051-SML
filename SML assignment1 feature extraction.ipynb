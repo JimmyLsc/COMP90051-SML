{
 "cells": [
  {
   "cell_type": "code",
   "execution_count": 1,
   "metadata": {},
   "outputs": [],
   "source": [
    "import numpy as np\n",
    "import pandas as pd\n",
    "import os\n",
    "from collections import defaultdict\n",
    "\n",
    "from random import *"
   ]
  },
  {
   "cell_type": "code",
   "execution_count": 2,
   "metadata": {},
   "outputs": [
    {
     "name": "stdout",
     "output_type": "stream",
     "text": [
      "0\n",
      "1000\n",
      "2000\n",
      "3000\n",
      "4000\n",
      "5000\n",
      "6000\n",
      "7000\n",
      "8000\n",
      "9000\n",
      "10000\n",
      "11000\n",
      "12000\n",
      "13000\n",
      "14000\n",
      "15000\n",
      "16000\n",
      "17000\n",
      "18000\n",
      "19000\n"
     ]
    }
   ],
   "source": [
    "vertex_set = set();\n",
    "vertex_dict = {}\n",
    "vertex_followlist ={}\n",
    "sink_dict = {};\n",
    "sink_followedlist = defaultdict(list)\n",
    "\n",
    "with open(\"train.txt\") as trainfile:\n",
    "    for i, line in enumerate(trainfile):\n",
    "        line_list = [int(k) for k in line[:-1].split(\"\\t\")];\n",
    "        vertex_dict[line_list[0]]=len(line_list)-1\n",
    "        vertex_set.add(line_list[0]);\n",
    "        vertex_followlist[line_list[0]]= line_list[1:]\n",
    "        for s in line_list[1:]:\n",
    "            sink_followedlist[s].append(line_list[0])\n",
    "            if s in sink_dict:\n",
    "                sink_dict[s] += 1;\n",
    "            else:\n",
    "                sink_dict[s] = 1;\n",
    "        if i % 1000 == 0:\n",
    "            print(i);"
   ]
  },
  {
   "cell_type": "code",
   "execution_count": 3,
   "metadata": {},
   "outputs": [
    {
     "name": "stdout",
     "output_type": "stream",
     "text": [
      "1\n",
      "20000\n"
     ]
    }
   ],
   "source": [
    "print(sink_dict[4867135]);\n",
    "print(len(vertex_set));"
   ]
  },
  {
   "cell_type": "code",
   "execution_count": 4,
   "metadata": {},
   "outputs": [
    {
     "name": "stdout",
     "output_type": "stream",
     "text": [
      "222237\n"
     ]
    }
   ],
   "source": [
    "new_sink_dict = {};\n",
    "threshold = 20;\n",
    "for k in sink_dict:\n",
    "    if sink_dict[k] >= threshold:\n",
    "        new_sink_dict[k] = sink_dict[k];\n",
    "        \n",
    "new_sink_set = set(new_sink_dict);\n",
    "print(len(new_sink_set))"
   ]
  },
  {
   "cell_type": "code",
   "execution_count": 5,
   "metadata": {
    "scrolled": true
   },
   "outputs": [
    {
     "name": "stdout",
     "output_type": "stream",
     "text": [
      "5947\n",
      "232230\n"
     ]
    }
   ],
   "source": [
    "test_vertex_and_sink_set = set();\n",
    "\n",
    "with open(\"test-public.txt\") as testfile:\n",
    "    for i, line in enumerate(testfile):\n",
    "        if i == 0:\n",
    "            continue;\n",
    "        line_list = [int(k) for k in line[:-1].split(\"\\t\")];\n",
    "        for s in line_list:\n",
    "            test_vertex_and_sink_set.add(s);\n",
    "print(len(test_vertex_and_sink_set));\n",
    "\n",
    "total_set = test_vertex_and_sink_set.union(new_sink_set).union(vertex_set);\n",
    "print(len(total_set));"
   ]
  },
  {
   "cell_type": "code",
   "execution_count": 6,
   "metadata": {},
   "outputs": [],
   "source": [
    "total_dict = {};\n",
    "total_list = []\n",
    "for i, p in enumerate(total_set):\n",
    "    total_dict[p] = i\n",
    "    total_list.append(p)"
   ]
  },
  {
   "cell_type": "code",
   "execution_count": 7,
   "metadata": {},
   "outputs": [
    {
     "name": "stdout",
     "output_type": "stream",
     "text": [
      "0\n",
      "1000\n",
      "2000\n",
      "3000\n",
      "4000\n",
      "5000\n",
      "6000\n",
      "7000\n",
      "8000\n",
      "9000\n",
      "10000\n",
      "11000\n",
      "12000\n",
      "13000\n",
      "14000\n",
      "15000\n",
      "16000\n",
      "17000\n",
      "18000\n",
      "19000\n"
     ]
    }
   ],
   "source": [
    "max_neighbors = 1000\n",
    "\n",
    "import numpy as np\n",
    "total_array = np.array(total_list);\n",
    "\n",
    "pairs = [];\n",
    "true_pairs = [];\n",
    "\"\"\"\n",
    "\"\"\"\n",
    "\n",
    "with open(\"train.txt\") as trainfile:\n",
    "    for i, line in enumerate(trainfile):\n",
    "        line_list = [int(k) for k in line[:-1].split(\"\\t\")];\n",
    "        v = line_list[0];\n",
    "        ranking = [-sink_dict[k] for k in line_list[1:]];\n",
    "        sorting = np.argsort(ranking);\n",
    "        filtered_linelist = np.array(line_list[1:])[sorting];\n",
    "        for s in filtered_linelist[1:max_neighbors]:\n",
    "            if s in total_set:\n",
    "                pairs.append([total_dict[v], total_dict[s]]);\n",
    "        if i % 1000 == 0:\n",
    "            print(i);\n",
    "\n",
    "test_pairs = [];\n",
    "with open(\"test-public.txt\") as testfile:\n",
    "    for i, line in enumerate(testfile):\n",
    "        if i == 0:\n",
    "            continue;\n",
    "        line_list = [int(k) for k in line[:-1].split(\"\\t\")];\n",
    "        test_pairs.append([line_list[0], total_dict[line_list[1]], total_dict[line_list[2]]]);\n",
    "        \n",
    "correspondence = total_array\n",
    "\n",
    "a=0\n",
    "for i in pairs:\n",
    "    true_pairs.append([correspondence[i[0]],correspondence[i[1]]])\n"
   ]
  },
  {
   "cell_type": "code",
   "execution_count": 10,
   "metadata": {},
   "outputs": [
    {
     "name": "stdout",
     "output_type": "stream",
     "text": [
      "[4066935, 848620]\n",
      "2000\n"
     ]
    }
   ],
   "source": [
    "print (true_pairs[0])\n",
    "print (len(test_pairs))"
   ]
  },
  {
   "cell_type": "code",
   "execution_count": 11,
   "metadata": {},
   "outputs": [
    {
     "data": {
      "text/plain": [
       "(18, 0, 18, 0, 0.001990049751243781, 1.8320899639845865)"
      ]
     },
     "execution_count": 11,
     "metadata": {},
     "output_type": "execute_result"
    }
   ],
   "source": [
    "def findneighbor(a,b):\n",
    "    import math\n",
    "    \"\"\"\n",
    "    c is common friend\n",
    "    1.a→c→b\n",
    "    2.a→c←b\n",
    "    3.a←c→b\n",
    "    4.a←c←b\n",
    "    5. Jaccard's coeffcient common friends/total friends\n",
    "    6. Adamic/Adar \n",
    "    \"\"\"\n",
    "    tempA,tempB = [],[]\n",
    "    count6=0\n",
    "    count7=0\n",
    "    \n",
    "    if a in vertex_followlist:\n",
    "        tempA = vertex_followlist[a]\n",
    "    if b in vertex_followlist:\n",
    "        tempB = vertex_followlist[b]\n",
    "    count1,count2,count3,count4,count5,count6 = 0,0,0,0,0,0\n",
    "\n",
    "    \n",
    "    if tempA !=None:\n",
    "        for i in tempA:\n",
    "            if i in vertex_followlist:\n",
    "                if b in vertex_followlist[i]:\n",
    "                    count1+=1\n",
    "    \n",
    "    count2 = len(set(tempA).intersection(tempB))\n",
    "    if a in sink_followedlist and b in sink_followedlist:\n",
    "        count3 = len(set(sink_followedlist[a]).intersection(sink_followedlist[b]))\n",
    "        totalA = set().union(sink_followedlist[a],tempA)\n",
    "        totalB = set().union(sink_followedlist[b],tempB)\n",
    "        commonFriends = list(set(totalA).intersection(totalB))\n",
    "        for commonFriend in commonFriends:\n",
    "            if commonFriend in vertex_dict:\n",
    "                if commonFriend in sink_dict:\n",
    "                    freq_comfri=vertex_dict[commonFriend]+sink_dict[commonFriend]\n",
    "                else:\n",
    "                    freq_comfri=vertex_dict[commonFriend]\n",
    "            else: \n",
    "                if commonFriend in sink_dict:\n",
    "                    freq_comfri=sink_dict[commonFriend]\n",
    "                else:\n",
    "                    freq_comfri=1\n",
    "            count6+=1/math.log(freq_comfri)\n",
    "            \n",
    "        total_AB = len(totalA.union(totalB))\n",
    "        \"\"\"\"\"\"\n",
    "#         \"BFS\"       \n",
    "#         for x in list(totalA)\n",
    "#             if b in list(totalA):\n",
    "#                 count7=1\n",
    "#             else:\n",
    "#                 x_neighbour_list=list(set(vertex_followlist[x]).union(sink_followedlist[x]))\n",
    "#                 if b in x_neighbour_list:\n",
    "#                     \"here should be a BFS to calculate the graph distance\"        \n",
    "        \"\"\"\"\"\"\n",
    "   \n",
    "    for i in tempB:\n",
    "        if i in vertex_followlist:\n",
    "            if a in vertex_followlist[i]:\n",
    "                count4+=1\n",
    "                \n",
    "#     commonFriends = count1+count2+count3+count4\n",
    "    count5 = len(commonFriends)/total_AB\n",
    "    \n",
    "    return (count1,count2,count3,count4,count5,count6)\n",
    "findneighbor(933347,1131654)"
   ]
  },
  {
   "cell_type": "code",
   "execution_count": 12,
   "metadata": {},
   "outputs": [
    {
     "data": {
      "text/plain": [
       "(84, 16, 14, 24, 5.25, 0.5833333333333334, 0, 0)"
      ]
     },
     "execution_count": 12,
     "metadata": {},
     "output_type": "execute_result"
    }
   ],
   "source": [
    "def countFollowingFollower(a,b):\n",
    "    \"\"\"return \n",
    "    1. a following count \n",
    "    2. a followed count\n",
    "    3. b following count\n",
    "    4. b followed count\n",
    "    5. a following/a followed\n",
    "    6. b following/b followed\n",
    "    7. if b following a\n",
    "    8. if a following b (y=label)\n",
    "\n",
    "    \"\"\"\n",
    "    count1,count2,count3,count4,count5,count6,count7,count8=0,0,0,0,0,0,0,0\n",
    "    if a in vertex_dict:\n",
    "        count1 = vertex_dict[a]\n",
    "    if b in vertex_dict:\n",
    "        count3 = vertex_dict[b]\n",
    "    if a in sink_dict:\n",
    "        count2 = sink_dict[a]\n",
    "    if b in sink_dict:\n",
    "        count4 = sink_dict[b]\n",
    "    if count2!=0:\n",
    "        count5 = count1/count2\n",
    "    else:\n",
    "        count5 = count1\n",
    "    if count4!=0:\n",
    "        count6 = count3/count4\n",
    "    else:\n",
    "        count6 = count2\n",
    "    if b in vertex_followlist:    \n",
    "        if a in vertex_followlist[b]:\n",
    "            count7=1\n",
    "    if a in vertex_followlist:    \n",
    "        if b in vertex_followlist[a]:\n",
    "            count8=1\n",
    "    return (count1,count2,count3,count4,count5,count6,count7,count8)\n",
    "#     return (count1,count2,count3,count4,count5,count6)\n",
    "\n",
    "\"\"\"\n",
    "count8  if a follow b\n",
    "\n",
    "\"\"\"\n",
    "countFollowingFollower(1406432,2481036)"
   ]
  },
  {
   "cell_type": "code",
   "execution_count": 13,
   "metadata": {},
   "outputs": [],
   "source": [
    "def distance(a,b):\n",
    "    vertex_followlist\n",
    "    "
   ]
  },
  {
   "cell_type": "code",
   "execution_count": null,
   "metadata": {},
   "outputs": [
    {
     "name": "stdout",
     "output_type": "stream",
     "text": [
      "10\n",
      "20\n",
      "30\n",
      "40\n",
      "50\n",
      "60\n",
      "70\n",
      "80\n",
      "90\n",
      "100\n",
      "110\n",
      "120\n",
      "130\n",
      "140\n",
      "150\n",
      "160\n",
      "170\n",
      "180\n",
      "190\n",
      "200\n",
      "210\n",
      "220\n",
      "230\n",
      "240\n",
      "250\n",
      "260\n",
      "270\n",
      "280\n",
      "290\n",
      "300\n",
      "310\n",
      "320\n",
      "330\n",
      "340\n",
      "350\n",
      "360\n",
      "370\n",
      "380\n",
      "390\n",
      "400\n",
      "410\n",
      "420\n"
     ]
    }
   ],
   "source": [
    "input_train = []\n",
    "count=0\n",
    "for i in true_pairs:\n",
    "    a=countFollowingFollower(i[0],i[1])\n",
    "    b=findneighbor(i[0],i[1])\n",
    "    count+=1\n",
    "    input_train.append([b[0],b[1],b[2],b[3],a[0],a[1],a[2],a[3],a[4],a[5],0,0])\n",
    "    #input_train.append([a[0],a[1],a[2],a[3],a[4],a[5],0,0])\n",
    "    if count % 10 == 0:\n",
    "        print(count);\n",
    "    \n",
    "print (len(input_train))"
   ]
  },
  {
   "cell_type": "code",
   "execution_count": null,
   "metadata": {},
   "outputs": [],
   "source": [
    "sink_sum = set(sink_dict)\n",
    "all_set = sink_sum.union(vertex_set)\n",
    "sum_ = len(all_set)-1\n",
    "all_set_list = list(all_set)\n",
    "false_pairs = []\n",
    "for i in range (5173000):\n",
    "    random1 = randint(0, sum)\n",
    "    random2 = randint(0,sum)\n",
    "    false_pairs.append([all_set_list[random1],all_set_list[random2]])\n"
   ]
  },
  {
   "cell_type": "code",
   "execution_count": null,
   "metadata": {},
   "outputs": [],
   "source": [
    "count=0    \n",
    "for i in false_pairs:\n",
    "    a=countFollowingFollower(i[0],i[1])\n",
    "    b=findneighbor(i[0],i[1])\n",
    "    count+=1\n",
    "    if count % 100000 == 0:\n",
    "        print(count);\n",
    "    \n",
    "    input_train.append([b[0],b[1],b[2],b[3],b[4],b[5],a[0],a[1],a[2],a[3],a[4],a[5],a[6],a[7]])\n",
    "    \n",
    "print (len(input_train))\n",
    "    \n",
    "niubi = np.array(input_train)"
   ]
  }
 ],
 "metadata": {
  "kernelspec": {
   "display_name": "Python 3",
   "language": "python",
   "name": "python3"
  },
  "language_info": {
   "codemirror_mode": {
    "name": "ipython",
    "version": 3
   },
   "file_extension": ".py",
   "mimetype": "text/x-python",
   "name": "python",
   "nbconvert_exporter": "python",
   "pygments_lexer": "ipython3",
   "version": "3.5.5"
  }
 },
 "nbformat": 4,
 "nbformat_minor": 2
}
