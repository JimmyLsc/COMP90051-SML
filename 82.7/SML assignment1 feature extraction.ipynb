{
 "cells": [
  {
   "cell_type": "code",
   "execution_count": 3,
   "metadata": {},
   "outputs": [],
   "source": [
    "import numpy as np\n",
    "import pandas as pd\n",
    "import os\n",
    "from collections import defaultdict\n",
    "from random import *"
   ]
  },
  {
   "cell_type": "code",
   "execution_count": 4,
   "metadata": {},
   "outputs": [
    {
     "name": "stdout",
     "output_type": "stream",
     "text": [
      "0\n",
      "3000\n",
      "6000\n",
      "9000\n",
      "12000\n",
      "15000\n",
      "18000\n"
     ]
    }
   ],
   "source": [
    "vertex_set = set();\n",
    "vertex_dict = {}\n",
    "vertex_followlist ={}\n",
    "sink_dict = {};\n",
    "sink_followedlist = defaultdict(list)\n",
    "\n",
    "with open(\"train.txt\") as trainfile:\n",
    "    for i, line in enumerate(trainfile):\n",
    "        line_list = [int(k) for k in line[:-1].split(\"\\t\")];\n",
    "        vertex_dict[line_list[0]]=len(line_list)-1\n",
    "        vertex_set.add(line_list[0]);\n",
    "        vertex_followlist[line_list[0]]= line_list[1:]\n",
    "        for s in line_list[1:]:\n",
    "            sink_followedlist[s].append(line_list[0])\n",
    "            if s in sink_dict:\n",
    "                sink_dict[s] += 1;\n",
    "            else:\n",
    "                sink_dict[s] = 1;\n",
    "        if i % 3000 == 0:\n",
    "            print(i);"
   ]
  },
  {
   "cell_type": "code",
   "execution_count": 5,
   "metadata": {},
   "outputs": [
    {
     "name": "stdout",
     "output_type": "stream",
     "text": [
      "1\n",
      "20000\n",
      "394342\n"
     ]
    }
   ],
   "source": [
    "new_sink_dict = {};\n",
    "threshold = 10;\n",
    "for k in sink_dict:\n",
    "    if sink_dict[k] >= threshold:\n",
    "        new_sink_dict[k] = sink_dict[k];\n",
    "        \n",
    "new_sink_set = set(new_sink_dict);\n",
    "\n",
    "print(sink_dict[4867135]);\n",
    "print(len(vertex_set));\n",
    "print(len(new_sink_set))"
   ]
  },
  {
   "cell_type": "code",
   "execution_count": 6,
   "metadata": {
    "scrolled": true
   },
   "outputs": [
    {
     "name": "stdout",
     "output_type": "stream",
     "text": [
      "5947\n",
      "401218\n"
     ]
    }
   ],
   "source": [
    "test_vertex_and_sink_set = set();\n",
    "\n",
    "with open(\"test-public.txt\") as testfile:\n",
    "    for i, line in enumerate(testfile):\n",
    "        if i == 0:\n",
    "            continue;\n",
    "        line_list = [int(k) for k in line[:-1].split(\"\\t\")];\n",
    "        for s in line_list:\n",
    "            test_vertex_and_sink_set.add(s);\n",
    "print(len(test_vertex_and_sink_set));\n",
    "\n",
    "total_set = test_vertex_and_sink_set.union(new_sink_set).union(vertex_set);\n",
    "# all nodes in new data set\n",
    "print(len(total_set));"
   ]
  },
  {
   "cell_type": "code",
   "execution_count": 7,
   "metadata": {},
   "outputs": [],
   "source": [
    "total_dict = {};\n",
    "total_list = []\n",
    "for i, p in enumerate(total_set):\n",
    "    total_dict[p] = i\n",
    "    total_list.append(p)"
   ]
  },
  {
   "cell_type": "code",
   "execution_count": 8,
   "metadata": {},
   "outputs": [
    {
     "name": "stdout",
     "output_type": "stream",
     "text": [
      "0\n",
      "1000\n",
      "2000\n",
      "3000\n",
      "4000\n",
      "5000\n",
      "6000\n",
      "7000\n",
      "8000\n",
      "9000\n",
      "10000\n",
      "11000\n",
      "12000\n",
      "13000\n",
      "14000\n",
      "15000\n",
      "16000\n",
      "17000\n",
      "18000\n",
      "19000\n"
     ]
    }
   ],
   "source": [
    "max_neighbors = 1000\n",
    "\n",
    "import numpy as np\n",
    "total_array = np.array(total_list);\n",
    "\n",
    "pairs = [];\n",
    "true_pairs = [];\n",
    "\"\"\"\n",
    "\"\"\"\n",
    "\n",
    "with open(\"train.txt\") as trainfile:\n",
    "    for i, line in enumerate(trainfile):\n",
    "        line_list = [int(k) for k in line[:-1].split(\"\\t\")];\n",
    "        v = line_list[0];\n",
    "        ranking = [-sink_dict[k] for k in line_list[1:]];\n",
    "        sorting = np.argsort(ranking);\n",
    "        filtered_linelist = np.array(line_list[1:])[sorting];\n",
    "        for s in filtered_linelist[1:max_neighbors]:\n",
    "            if s in total_set:\n",
    "                pairs.append([total_dict[v], total_dict[s]]);\n",
    "        if i % 1000 == 0:\n",
    "            print(i);\n",
    "\n",
    "test_pairs = [];\n",
    "with open(\"test-public.txt\") as testfile:\n",
    "    for i, line in enumerate(testfile):\n",
    "        if i == 0:\n",
    "            continue;\n",
    "        line_list = [int(k) for k in line[:-1].split(\"\\t\")];\n",
    "        test_pairs.append([line_list[0], total_dict[line_list[1]], total_dict[line_list[2]]]);"
   ]
  },
  {
   "cell_type": "code",
   "execution_count": 9,
   "metadata": {},
   "outputs": [
    {
     "name": "stdout",
     "output_type": "stream",
     "text": [
      "5168055\n",
      "2000\n"
     ]
    }
   ],
   "source": [
    "correspondence = total_array\n",
    "for i in pairs:\n",
    "    true_pairs.append([correspondence[i[0]],correspondence[i[1]]])\n",
    "true_testpairs = []\n",
    "\n",
    "for i in test_pairs:\n",
    "    true_testpairs.append([correspondence[i[1]],correspondence[i[2]]])\n",
    "\n",
    "print (len(true_pairs))\n",
    "print (len(true_testpairs))"
   ]
  },
  {
   "cell_type": "code",
   "execution_count": 10,
   "metadata": {},
   "outputs": [],
   "source": [
    "np.savez_compressed(\"filtered_data\", correspondence = total_array, pairs = pairs, test_pairs = test_pairs);"
   ]
  },
  {
   "cell_type": "code",
   "execution_count": 50,
   "metadata": {},
   "outputs": [
    {
     "name": "stdout",
     "output_type": "stream",
     "text": [
      "19138\n",
      "319312\n",
      "19138\n",
      "319312\n"
     ]
    }
   ],
   "source": [
    "temp_new_vertex_followlist = defaultdict(list)\n",
    "temp_new_sink_followlist = defaultdict(list)\n",
    "new_vertex_followlist={}\n",
    "new_sink_followlist={}\n",
    "new_vertex_followquicklist ={}\n",
    "new_sink_followquicklist ={}\n",
    "new_vertex_dict = {}\n",
    "new_sink_dict = {}\n",
    "for i in true_pairs:\n",
    "    temp_new_vertex_followlist[i[0]].append(i[1])\n",
    "    temp_new_sink_followlist[i[1]].append(i[0])\n",
    "    new_vertex_followquicklist[i[0],i[1]]=1\n",
    "    new_sink_followquicklist[i[1],i[0]]=1\n",
    "\n",
    "for i in temp_new_vertex_followlist:\n",
    "    new_vertex_followlist[i]=temp_new_vertex_followlist[i]\n",
    "for i in temp_new_sink_followlist:\n",
    "    new_sink_followlist[i]=temp_new_sink_followlist[i]    \n",
    "for i in new_vertex_followlist.keys():\n",
    "    new_vertex_dict[i]=len(new_vertex_followlist[i])\n",
    "    for j in new_vertex_followlist[i]:\n",
    "        if j in new_sink_dict:\n",
    "            new_sink_dict[j]+=1\n",
    "        else:   \n",
    "            new_sink_dict[j]=1\n",
    "print (len(new_vertex_followlist))\n",
    "print (len(new_sink_followlist))\n",
    "print (len(new_vertex_dict))\n",
    "print (len(new_sink_dict))"
   ]
  },
  {
   "cell_type": "code",
   "execution_count": 137,
   "metadata": {},
   "outputs": [
    {
     "data": {
      "text/plain": [
       "(63, 6, 13, 23, 10.5, 0.5652173913043478)"
      ]
     },
     "execution_count": 137,
     "metadata": {},
     "output_type": "execute_result"
    }
   ],
   "source": [
    "def countFollowingFollower(a,b):\n",
    "    \"\"\"return \n",
    "    1. a following count \n",
    "    2. a followed count\n",
    "    3. b following count\n",
    "    4. b followed count\n",
    "    5. a following/a followed\n",
    "    6. b following/b followed\n",
    "    \"\"\"\n",
    "    count1,count2,count3,count4,count5,count6,count7,count8=0,0,0,0,0,0,0,0\n",
    "    \n",
    "    if a in new_vertex_dict:\n",
    "        count1 = new_vertex_dict[a]\n",
    "    if b in new_vertex_dict:\n",
    "        count3 = new_vertex_dict[b]\n",
    "    if a in new_sink_dict:\n",
    "        count2 = new_sink_dict[a]\n",
    "    if b in new_sink_dict:\n",
    "        count4 = new_sink_dict[b]\n",
    "    \n",
    "    if count2!=0:\n",
    "        count5 = count1/count2\n",
    "    else:\n",
    "        count5 = count1\n",
    "    if count4!=0:\n",
    "        count6 = count3/count4\n",
    "    else:\n",
    "        count6 = count2\n",
    "#     if b in new_vertex_followlist:    \n",
    "#         if a in new_vertex_followlist[b]:\n",
    "#             count7=1\n",
    "#     if a in vertex_set:    \n",
    "#         if b in new_vertex_followlist[a]:\n",
    "#             count8=1\n",
    "    return (count1,count2,count3,count4,count5,count6)\n",
    "\n",
    "\"\"\"\n",
    "count8  if a follow b\n",
    "\n",
    "\"\"\"\n",
    "countFollowingFollower(1406432,2481036)"
   ]
  },
  {
   "cell_type": "code",
   "execution_count": 123,
   "metadata": {},
   "outputs": [
    {
     "data": {
      "text/plain": [
       "(0.026981450252951095, 2.4021665662725993, 16, 3)"
      ]
     },
     "execution_count": 123,
     "metadata": {},
     "output_type": "execute_result"
    }
   ],
   "source": [
    "# test\n",
    "def findneighbor(a,b):\n",
    "    import math\n",
    "\n",
    "#     c is common friend\n",
    "#     1.a→c→b\n",
    "#     2.a→c←b\n",
    "#     3.a←c→b\n",
    "#     4.a←c←b\n",
    "#     5. Jaccard's coeffcient common friends/total friends\n",
    "#     6. Adamic/Adar \n",
    "#     7. commonfriend\n",
    "#     8. graph distance\n",
    "\n",
    "    tempA,tempB,tempsinkA,tempsinkB = [],[],[],[]\n",
    "    count1,count2,count3,count4,count5,count6,count7, count8 = 0,0,0,0,0,0,0,0\n",
    "# #     a 一定在 vertex_set\n",
    "    if a in new_vertex_followlist:\n",
    "        tempA = new_vertex_followlist[a]\n",
    "    if a in new_sink_followlist:\n",
    "        tempsinkA =new_sink_followlist[a]\n",
    "    if b in new_vertex_followlist:\n",
    "        tempB = new_vertex_followlist[b]\n",
    "    if b in new_sink_followlist:\n",
    "        tempsinkB =new_sink_followlist[b]  \n",
    "    \n",
    "    if tempA !=None and b in new_sink_followlist:\n",
    "            count1=len(set(tempA).intersection(new_sink_followlist[b]))\n",
    "  \n",
    "    count2 = len(set(tempA).intersection(tempB))\n",
    "    if a in new_sink_followlist and b in new_sink_followlist:\n",
    "        count3 = len(set(new_sink_followlist[a]).intersection(new_sink_followlist[b]))\n",
    "        \n",
    "    if a in new_sink_followlist and tempB!=None:\n",
    "        count4 = len(set(new_sink_followlist[a]).intersection(tempB))\n",
    "    \n",
    "    if tempA !=None:\n",
    "        for i in tempA:\n",
    "            if i in new_vertex_followlist:\n",
    "                if b in new_vertex_followlist[i]:\n",
    "                    count1+=1\n",
    "    \n",
    "    count2 = len(set(tempA).intersection(tempB))\n",
    "    count3 = len(set(new_sink_followlist[a]).intersection(new_sink_followlist[b]))\n",
    "    \n",
    "    if tempB != None:\n",
    "        for i in tempB:\n",
    "            if i in new_vertex_followlist:\n",
    "                if a in new_vertex_followlist[i]:\n",
    "                    count4+=1\n",
    "      \n",
    "    totalA = set().union(tempsinkA,tempA)\n",
    "    totalB = set().union(tempsinkB,tempB)\n",
    "    commonFriends = list(set(totalA).intersection(totalB))\n",
    "    count7=len(commonFriends)\n",
    "    total_AB = len(totalA.union(totalB))\n",
    "    if total_AB!=0:\n",
    "        count5 = len(commonFriends)/total_AB\n",
    "    \n",
    "    for commonFriend in commonFriends:\n",
    "        freq_comfri = 0\n",
    "        if commonFriend in new_vertex_followlist:\n",
    "            freq_comfri += new_vertex_dict[commonFriend]\n",
    "        if commonFriend in new_sink_followlist:\n",
    "            freq_comfri += new_sink_dict[commonFriend]\n",
    "        if freq_comfri!=0:\n",
    "            count6+=1/math.log(freq_comfri+1)\n",
    "    \n",
    "    if (a,b) in new_vertex_followquicklist:\n",
    "        count8 =3\n",
    "        return (count5,count6,count7,count8)\n",
    "    if (b,a) in new_vertex_followquicklist:\n",
    "        count8 =2\n",
    "        return (count5,count6,count7,count8)\n",
    "    if count7!=0:\n",
    "        count8 =1\n",
    "        return (count5,count6,count7,count8)\n",
    "\n",
    "#     return (count1,count2,count3,count4,count5)\n",
    "    return (count5,count6,count7,count8)\n",
    "findneighbor(4066935,349769)"
   ]
  },
  {
   "cell_type": "code",
   "execution_count": 124,
   "metadata": {},
   "outputs": [
    {
     "name": "stdout",
     "output_type": "stream",
     "text": [
      "19138\n",
      "19138\n"
     ]
    }
   ],
   "source": [
    "c,show =0,0\n",
    "for i in new_vertex_dict.keys():\n",
    "    show+=1\n",
    "    if i in new_sink_dict:\n",
    "        c+=1\n",
    "\n",
    "print (len(new_vertex_followlist))\n",
    "print (len(new_vertex_dict))\n",
    "# 19136/19138"
   ]
  },
  {
   "cell_type": "code",
   "execution_count": 138,
   "metadata": {},
   "outputs": [
    {
     "name": "stdout",
     "output_type": "stream",
     "text": [
      "1000000\n",
      "2000000\n",
      "3000000\n",
      "4000000\n",
      "5000000\n",
      "5168055\n"
     ]
    }
   ],
   "source": [
    "# label 1 part 1\n",
    "input_train = []\n",
    "count=0\n",
    "for i in true_pairs:\n",
    "    a=countFollowingFollower(i[0],i[1])\n",
    "    count+=1\n",
    "    input_train.append(list(a))\n",
    "    if count%1000000==0:\n",
    "        print (count)\n",
    "\n",
    "print (len(input_train))"
   ]
  },
  {
   "cell_type": "code",
   "execution_count": 126,
   "metadata": {},
   "outputs": [
    {
     "name": "stdout",
     "output_type": "stream",
     "text": [
      "50000\n",
      "100000\n",
      "150000\n",
      "200000\n",
      "250000\n",
      "300000\n",
      "350000\n",
      "400000\n",
      "450000\n",
      "500000\n",
      "550000\n",
      "600000\n",
      "650000\n",
      "700000\n",
      "750000\n",
      "800000\n",
      "850000\n",
      "900000\n",
      "950000\n",
      "1000000\n",
      "1050000\n",
      "1100000\n",
      "1150000\n",
      "1200000\n",
      "1250000\n",
      "1300000\n",
      "1350000\n",
      "1400000\n",
      "1450000\n",
      "1500000\n",
      "1550000\n",
      "1600000\n",
      "1650000\n",
      "1700000\n",
      "1750000\n",
      "1800000\n",
      "1850000\n",
      "1900000\n",
      "1950000\n",
      "2000000\n",
      "2050000\n",
      "2100000\n",
      "2150000\n",
      "2200000\n",
      "2250000\n",
      "2300000\n",
      "2350000\n",
      "2400000\n",
      "2450000\n",
      "2500000\n",
      "2550000\n",
      "2600000\n",
      "2650000\n",
      "2700000\n",
      "2750000\n",
      "2800000\n",
      "2850000\n",
      "2900000\n",
      "2950000\n",
      "3000000\n",
      "3050000\n",
      "3100000\n",
      "3150000\n",
      "3200000\n",
      "3250000\n",
      "3300000\n",
      "3350000\n",
      "3400000\n",
      "3450000\n",
      "3500000\n",
      "3550000\n",
      "3600000\n",
      "3650000\n",
      "3700000\n",
      "3750000\n",
      "3800000\n",
      "3850000\n",
      "3900000\n",
      "3950000\n",
      "4000000\n",
      "4050000\n",
      "4100000\n",
      "4150000\n",
      "4200000\n",
      "4250000\n",
      "4300000\n",
      "4350000\n",
      "4400000\n",
      "4450000\n",
      "4500000\n",
      "4550000\n",
      "4600000\n",
      "4650000\n",
      "4700000\n",
      "4750000\n",
      "4800000\n",
      "4850000\n",
      "4900000\n",
      "4950000\n",
      "5000000\n",
      "5050000\n",
      "5100000\n",
      "5150000\n",
      "5168055\n"
     ]
    }
   ],
   "source": [
    "# label 1 part 2\n",
    "input_train2 = []\n",
    "count=0\n",
    "for i in true_pairs:\n",
    "    b=findneighbor(i[0],i[1])\n",
    "    count+=1\n",
    "    input_train2.append(list(b))\n",
    "    if count%50000==0:\n",
    "        print (count)\n",
    "    \n",
    "print (len(input_train2))"
   ]
  },
  {
   "cell_type": "code",
   "execution_count": 139,
   "metadata": {},
   "outputs": [
    {
     "name": "stdout",
     "output_type": "stream",
     "text": [
      "10\n"
     ]
    }
   ],
   "source": [
    "# label 1 part1+part2\n",
    "temptest = np.hstack((input_train,input_train2))\n",
    "print (len(temptest[0]))"
   ]
  },
  {
   "cell_type": "code",
   "execution_count": 145,
   "metadata": {},
   "outputs": [
    {
     "name": "stdout",
     "output_type": "stream",
     "text": [
      "5168055\n",
      "(5168055, 11)\n"
     ]
    }
   ],
   "source": [
    "# features + label 1\n",
    "true_label = np.ones(len(temptest))\n",
    "true_featurewithlabel = np.insert(temptest, 10, values=true_label, axis=1)\n",
    "print (len(true_featurewithlabel))\n",
    "print (np.shape(true_featurewithlabel))"
   ]
  },
  {
   "cell_type": "code",
   "execution_count": 129,
   "metadata": {},
   "outputs": [
    {
     "name": "stdout",
     "output_type": "stream",
     "text": [
      "5168055\n"
     ]
    }
   ],
   "source": [
    "# create false pairs\n",
    "total_list = list(total_set)\n",
    "sum = len(total_list)-1\n",
    "false_pairs = []\n",
    "for i in range(5168056):\n",
    "    random1 = randint(0,sum)\n",
    "    random2 = randint(0,sum)\n",
    "    if random1 in new_vertex_followlist and random2 in new_vertex_followlist[random1]:\n",
    "        continue\n",
    "    false_pairs.append([total_list[random1],total_list[random2]])\n",
    "print (len(false_pairs))"
   ]
  },
  {
   "cell_type": "code",
   "execution_count": 141,
   "metadata": {},
   "outputs": [
    {
     "name": "stdout",
     "output_type": "stream",
     "text": [
      "500000\n",
      "1000000\n",
      "1500000\n",
      "2000000\n",
      "2500000\n",
      "3000000\n",
      "3500000\n",
      "4000000\n",
      "4500000\n",
      "5000000\n",
      "5168055\n"
     ]
    }
   ],
   "source": [
    "# label 0 part 1\n",
    "input_train_1 = []\n",
    "count=0\n",
    "for i in false_pairs:\n",
    "    a=countFollowingFollower(i[0],i[1])\n",
    "    count+=1\n",
    "    input_train_1.append(list(a))\n",
    "    if count%500000==0:\n",
    "        print (count)\n",
    "print (len(input_train_1))"
   ]
  },
  {
   "cell_type": "code",
   "execution_count": 131,
   "metadata": {},
   "outputs": [
    {
     "name": "stdout",
     "output_type": "stream",
     "text": [
      "50000\n",
      "100000\n",
      "150000\n",
      "200000\n",
      "250000\n",
      "300000\n",
      "350000\n",
      "400000\n",
      "450000\n",
      "500000\n",
      "550000\n",
      "600000\n",
      "650000\n",
      "700000\n",
      "750000\n",
      "800000\n",
      "850000\n",
      "900000\n",
      "950000\n",
      "1000000\n",
      "1050000\n",
      "1100000\n",
      "1150000\n",
      "1200000\n",
      "1250000\n",
      "1300000\n",
      "1350000\n",
      "1400000\n",
      "1450000\n",
      "1500000\n",
      "1550000\n",
      "1600000\n",
      "1650000\n",
      "1700000\n",
      "1750000\n",
      "1800000\n",
      "1850000\n",
      "1900000\n",
      "1950000\n",
      "2000000\n",
      "2050000\n",
      "2100000\n",
      "2150000\n",
      "2200000\n",
      "2250000\n",
      "2300000\n",
      "2350000\n",
      "2400000\n",
      "2450000\n",
      "2500000\n",
      "2550000\n",
      "2600000\n",
      "2650000\n",
      "2700000\n",
      "2750000\n",
      "2800000\n",
      "2850000\n",
      "2900000\n",
      "2950000\n",
      "3000000\n",
      "3050000\n",
      "3100000\n",
      "3150000\n",
      "3200000\n",
      "3250000\n",
      "3300000\n",
      "3350000\n",
      "3400000\n",
      "3450000\n",
      "3500000\n",
      "3550000\n",
      "3600000\n",
      "3650000\n",
      "3700000\n",
      "3750000\n",
      "3800000\n",
      "3850000\n",
      "3900000\n",
      "3950000\n",
      "4000000\n",
      "4050000\n",
      "4100000\n",
      "4150000\n",
      "4200000\n",
      "4250000\n",
      "4300000\n",
      "4350000\n",
      "4400000\n",
      "4450000\n",
      "4500000\n",
      "4550000\n",
      "4600000\n",
      "4650000\n",
      "4700000\n",
      "4750000\n",
      "4800000\n",
      "4850000\n",
      "4900000\n",
      "4950000\n",
      "5000000\n",
      "5050000\n",
      "5100000\n",
      "5150000\n"
     ]
    }
   ],
   "source": [
    "# label 0 part 2\n",
    "input_train_2 = []\n",
    "count=0\n",
    "for i in false_pairs:\n",
    "    b=findneighbor(i[0],i[1])\n",
    "    count+=1\n",
    "    input_train_2.append(list(b))\n",
    "    if count%50000==0:\n",
    "        print (count)"
   ]
  },
  {
   "cell_type": "code",
   "execution_count": 142,
   "metadata": {},
   "outputs": [
    {
     "name": "stdout",
     "output_type": "stream",
     "text": [
      "10\n"
     ]
    }
   ],
   "source": [
    "# label 0 part1+part2\n",
    "false_temptest = np.hstack((input_train_1,input_train_2))\n",
    "print(len(false_temptest[0]))"
   ]
  },
  {
   "cell_type": "code",
   "execution_count": 149,
   "metadata": {},
   "outputs": [
    {
     "name": "stdout",
     "output_type": "stream",
     "text": [
      "5168055\n",
      "(10336110, 11)\n"
     ]
    }
   ],
   "source": [
    "# label 0 + feature0\n",
    "false_label = np.zeros(len(false_temptest))\n",
    "false_featurewithlabel = np.insert(false_temptest, 10, values=false_label, axis=1)\n",
    "print (len(false_featurewithlabel))\n",
    "# label 1  +  label 0\n",
    "together = np.vstack((true_featurewithlabel,false_featurewithlabel))\n",
    "print(np.shape(together))"
   ]
  },
  {
   "cell_type": "code",
   "execution_count": 150,
   "metadata": {},
   "outputs": [],
   "source": [
    "np.savez_compressed(\"new_result_1000\", result = together);"
   ]
  },
  {
   "cell_type": "code",
   "execution_count": 151,
   "metadata": {},
   "outputs": [
    {
     "name": "stdout",
     "output_type": "stream",
     "text": [
      "(2000, 2)\n",
      "(2000, 10)\n"
     ]
    }
   ],
   "source": [
    "# convert test pairs  to  features\n",
    "test_output = []\n",
    "for i in true_testpairs:\n",
    "    temp =[i[0],i[1]]\n",
    "    test_output.append(temp)\n",
    "print(np.shape(test_output))\n",
    "\n",
    "test_features = []\n",
    "for i in test_output:\n",
    "    a=countFollowingFollower(i[0],i[1])\n",
    "    b=findneighbor(i[0],i[1])\n",
    "    test_features.append(list(a)+list(b))\n",
    "print (np.shape(test_features))"
   ]
  },
  {
   "cell_type": "code",
   "execution_count": 152,
   "metadata": {},
   "outputs": [],
   "source": [
    "np.savez_compressed(\"new_test_features\", testresult = test_features);"
   ]
  },
  {
   "cell_type": "code",
   "execution_count": null,
   "metadata": {},
   "outputs": [],
   "source": []
  }
 ],
 "metadata": {
  "kernelspec": {
   "display_name": "Python 3",
   "language": "python",
   "name": "python3"
  },
  "language_info": {
   "codemirror_mode": {
    "name": "ipython",
    "version": 3
   },
   "file_extension": ".py",
   "mimetype": "text/x-python",
   "name": "python",
   "nbconvert_exporter": "python",
   "pygments_lexer": "ipython3",
   "version": "3.5.5"
  }
 },
 "nbformat": 4,
 "nbformat_minor": 2
}
