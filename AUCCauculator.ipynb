{
 "cells": [
  {
   "cell_type": "code",
   "execution_count": null,
   "metadata": {},
   "outputs": [],
   "source": [
    "from sklearn.model_selection import train_test_split\n",
    "from sklearn import metrics\n",
    "\n",
    "# X_train: feature matrix\n",
    "# Y_train: label matrix\n",
    "# test_size: the size of train data/the size of test data (both from trainning data)\n",
    "# clf: the model built before\n",
    "\n",
    "# eg.calAUCScore(X_train,Y_train,0.2,clf)\n",
    "\n",
    "# with np.load('new_result_1000.npz') as fd:\n",
    "#     a = fd[\"result\"]\n",
    "#     X_train=a[:,0:10]\n",
    "#     Y_train=a[:,10]\n",
    "\n",
    "\n",
    "# clf = RandomForestClassifier(bootstrap=True, class_weight=None, criterion='gini',\n",
    "#             max_depth=2, max_features='auto', max_leaf_nodes=10,\n",
    "#             min_impurity_decrease=0.0, min_impurity_split=None,\n",
    "#             min_samples_leaf=5, min_samples_split=5,\n",
    "#             min_weight_fraction_leaf=0.0, n_estimators=50, n_jobs=4,\n",
    "#             oob_score=False, random_state=0, verbose=0, warm_start=False)\n",
    "\n",
    "\n",
    "def calAUCScore(X_train, Y_train, test_size, clf):\n",
    "    train_x,test_x,train_y,test_y = cross_validation.train_test_split(X_train,Y_train,test_size=test_size,random_state=90051)\n",
    "    clf.fit(train_x,train_y)\n",
    "    predict_prob_y = clf.predict_proba(test_x)[:,1:]\n",
    "    test_auc = metrics.roc_auc_score(test_y,predict_prob_y)\n",
    "    return test_auc"
   ]
  }
 ],
 "metadata": {
  "kernelspec": {
   "display_name": "Python 3",
   "language": "python",
   "name": "python3"
  },
  "language_info": {
   "codemirror_mode": {
    "name": "ipython",
    "version": 3
   },
   "file_extension": ".py",
   "mimetype": "text/x-python",
   "name": "python",
   "nbconvert_exporter": "python",
   "pygments_lexer": "ipython3",
   "version": "3.6.5"
  }
 },
 "nbformat": 4,
 "nbformat_minor": 2
}
