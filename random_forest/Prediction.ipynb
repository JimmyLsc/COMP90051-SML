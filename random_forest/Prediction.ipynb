{
 "cells": [
  {
   "cell_type": "code",
   "execution_count": 1,
   "metadata": {
    "scrolled": true
   },
   "outputs": [
    {
     "data": {
      "text/plain": [
       "LogisticRegression(C=1.0, class_weight=None, dual=False, fit_intercept=True,\n",
       "          intercept_scaling=1, max_iter=100, multi_class='ovr', n_jobs=1,\n",
       "          penalty='l2', random_state=None, solver='liblinear', tol=0.0001,\n",
       "          verbose=0, warm_start=False)"
      ]
     },
     "execution_count": 1,
     "metadata": {},
     "output_type": "execute_result"
    }
   ],
   "source": [
    "import numpy as np\n",
    "from sklearn.linear_model import LogisticRegression\n"
   ]
  },
  {
   "cell_type": "code",
   "execution_count": null,
   "metadata": {},
   "outputs": [],
   "source": [
    "# load train  and  test\n",
    "with np.load('result_1000.npz') as fd:\n",
    "    a = fd[\"result\"]\n",
    "X_train=a[:,0:12]\n",
    "Y_train=a[:,12]\n",
    "\n",
    "with np.load('test_features.npz') as fd:\n",
    "    testmatrix= fd[\"testresult\"]\n",
    "    \n",
    "counter = 0\n",
    "for i in clf.predict(testmatrix):\n",
    "    if i==1:\n",
    "        counter+=1\n",
    "print (counter)"
   ]
  },
  {
   "cell_type": "code",
   "execution_count": null,
   "metadata": {},
   "outputs": [],
   "source": [
    "# logistics in sklearn\n",
    "\n",
    "clf = LogisticRegression()\n",
    "clf.fit(X_train, Y_train)\n",
    "temp = clf.predict_proba(testmatrix).tolist()"
   ]
  },
  {
   "cell_type": "code",
   "execution_count": null,
   "metadata": {
    "scrolled": true
   },
   "outputs": [
    {
     "name": "stdout",
     "output_type": "stream",
     "text": [
      "Iteration 1, loss = 0.09443259\n",
      "Iteration 2, loss = 0.08907221\n",
      "Iteration 3, loss = 0.08050754\n",
      "Iteration 4, loss = 0.07729140\n",
      "Iteration 5, loss = 0.07498758\n",
      "Iteration 6, loss = 0.07215680\n",
      "Iteration 7, loss = 0.07092523\n",
      "Iteration 8, loss = 0.07097065\n",
      "Iteration 9, loss = 0.07033251\n",
      "Iteration 10, loss = 0.06976562\n",
      "Iteration 11, loss = 0.06902037\n",
      "Iteration 12, loss = 0.07023992\n",
      "Iteration 13, loss = 0.06826861\n",
      "Iteration 14, loss = 0.06892001\n",
      "Iteration 15, loss = 0.07001790\n",
      "Iteration 16, loss = 0.06721486\n",
      "Iteration 17, loss = 0.06927167\n"
     ]
    }
   ],
   "source": [
    "from sklearn.neural_network import MLPClassifier\n",
    "\n",
    "mlp = MLPClassifier(solver='adam', activation='logistic',alpha=1e-4,hidden_layer_sizes=(3), random_state=1,max_iter=500,verbose=10,learning_rate_init=.01)\n",
    "mlp.fit(X_train, Y_train)                         \n",
    "print (mlp.n_layers_)\n",
    "print (mlp.n_iter_)\n",
    "print (mlp.loss_)\n",
    "print (mlp.out_activation_)"
   ]
  },
  {
   "cell_type": "code",
   "execution_count": 71,
   "metadata": {
    "scrolled": true
   },
   "outputs": [
    {
     "name": "stdout",
     "output_type": "stream",
     "text": [
      "finishing!\n"
     ]
    }
   ],
   "source": [
    "# output general\n",
    "\n",
    "temp = mlp.predict_proba(testmatrix).tolist()\n",
    "\n",
    "import csv\n",
    "with open('final_result.csv', 'w',newline ='') as csvfile:\n",
    "    writer = csv.writer(csvfile)\n",
    "    # Id, Prediction\n",
    "    line_title = []\n",
    "    line_title.append('Id')\n",
    "    line_title.append('Prediction')\n",
    "    writer.writerow(line_title)\n",
    "    index = 0\n",
    "    for item in temp:\n",
    "        index += 1\n",
    "        temp_list = []\n",
    "        temp_list.append(index)\n",
    "        temp_list.append(\"%.9f\" % item[1])\n",
    "        writer.writerow(temp_list)\n",
    "    csvfile.close()\n",
    "    print('finishing!')   "
   ]
  },
  {
   "cell_type": "code",
   "execution_count": 9,
   "metadata": {},
   "outputs": [
    {
     "name": "stdout",
     "output_type": "stream",
     "text": [
      "[1]\n"
     ]
    }
   ],
   "source": [
    "print(clf.predict([[0, 0, 0, 0]]))"
   ]
  },
  {
   "cell_type": "code",
   "execution_count": 68,
   "metadata": {},
   "outputs": [],
   "source": [
    "from sklearn.ensemble import RandomForestClassifier\n",
    "from sklearn.datasets import make_classification\n",
    "import numpy as np\n",
    "\n",
    "# X, y = make_classification(n_samples=1000, n_features=5, n_informative=2, n_redundant=0, random_state=0, shuffle=False)\n",
    "# clf = RandomForestClassifier(max_depth=2, random_state=0)\n",
    "# clf.fit(X, y)\n",
    "clf = RandomForestClassifier(bootstrap=True, class_weight=None, criterion='gini',\n",
    "            max_depth=2, max_features='auto', max_leaf_nodes=10,\n",
    "            min_impurity_decrease=0.0, min_impurity_split=None,\n",
    "            min_samples_leaf=5, min_samples_split=5,\n",
    "            min_weight_fraction_leaf=0.0, n_estimators=50, n_jobs=4,\n",
    "            oob_score=False, random_state=0, verbose=0, warm_start=False)\n",
    "\n"
   ]
  },
  {
   "cell_type": "code",
   "execution_count": 69,
   "metadata": {},
   "outputs": [
    {
     "name": "stdout",
     "output_type": "stream",
     "text": [
      "[1.97725697e-01 2.08411195e-02 3.27464373e-05 2.26183442e-03\n",
      " 1.91668608e-01 2.08503638e-04 9.12464351e-02 1.45792397e-02\n",
      " 4.55720084e-02 4.35863808e-01]\n"
     ]
    }
   ],
   "source": [
    "# load train  and  test\n",
    "with np.load('new_result_1000.npz') as fd:\n",
    "    a = fd[\"result\"]\n",
    "X_train=a[:,0:10]\n",
    "Y_train=a[:,10]\n",
    "\n",
    "with np.load('new_test_features.npz') as fd:\n",
    "    testmatrix= fd[\"testresult\"]\n",
    "    \n",
    "# 5 6 7 8 10\n",
    "# 4 5 6 7 9\n",
    "# -1 2 3 8\n",
    "\n",
    "# X_train = np.delete(X_train, [1,2,3,4,8], axis=1)\n",
    "# testmatrix = np.delete(testmatrix, [1,2,3,4,8], axis=1)\n",
    "\n",
    "clf.fit(X_train, Y_train)\n",
    "print(clf.feature_importances_)\n",
    "\n",
    "# counter = 0\n",
    "# for i in clf.predict(testmatrix):\n",
    "#     if i==1:\n",
    "#         counter+=1\n",
    "# print (counter)"
   ]
  },
  {
   "cell_type": "code",
   "execution_count": 67,
   "metadata": {},
   "outputs": [
    {
     "name": "stdout",
     "output_type": "stream",
     "text": [
      "finishing!\n"
     ]
    }
   ],
   "source": [
    "# output general\n",
    "\n",
    "temp = clf.predict_proba(testmatrix).tolist()\n",
    "\n",
    "import csv\n",
    "with open('random_forest_result.csv', 'w',newline ='') as csvfile:\n",
    "    writer = csv.writer(csvfile)\n",
    "    # Id, Prediction\n",
    "    line_title = []\n",
    "    line_title.append('Id')\n",
    "    line_title.append('Prediction')\n",
    "    writer.writerow(line_title)\n",
    "    index = 0\n",
    "    for item in temp:\n",
    "        index += 1\n",
    "        temp_list = []\n",
    "        temp_list.append(index)\n",
    "        temp_list.append(\"%.9f\" % item[1])\n",
    "        writer.writerow(temp_list)\n",
    "    csvfile.close()\n",
    "    print('finishing!')   "
   ]
  },
  {
   "cell_type": "code",
   "execution_count": null,
   "metadata": {},
   "outputs": [],
   "source": []
  }
 ],
 "metadata": {
  "kernelspec": {
   "display_name": "Python 3",
   "language": "python",
   "name": "python3"
  },
  "language_info": {
   "codemirror_mode": {
    "name": "ipython",
    "version": 3
   },
   "file_extension": ".py",
   "mimetype": "text/x-python",
   "name": "python",
   "nbconvert_exporter": "python",
   "pygments_lexer": "ipython3",
   "version": "3.6.5"
  }
 },
 "nbformat": 4,
 "nbformat_minor": 2
}
