{
 "cells": [
  {
   "cell_type": "code",
   "execution_count": 1,
   "metadata": {},
   "outputs": [],
   "source": [
    "import numpy as np\n",
    "import pandas as pd\n",
    "import os\n",
    "from collections import defaultdict\n",
    "\n",
    "from random import *"
   ]
  },
  {
   "cell_type": "code",
   "execution_count": 2,
   "metadata": {},
   "outputs": [
    {
     "name": "stdout",
     "output_type": "stream",
     "text": [
      "0\n",
      "1000\n",
      "2000\n",
      "3000\n",
      "4000\n",
      "5000\n",
      "6000\n",
      "7000\n",
      "8000\n",
      "9000\n",
      "10000\n",
      "11000\n",
      "12000\n",
      "13000\n",
      "14000\n",
      "15000\n",
      "16000\n",
      "17000\n",
      "18000\n",
      "19000\n"
     ]
    }
   ],
   "source": [
    "vertex_set = set();\n",
    "vertex_dict = {}\n",
    "vertex_followlist ={}\n",
    "vertex_followquicklist ={}\n",
    "sink_dict = {};\n",
    "sink_followedlist = defaultdict(list)\n",
    "\n",
    "with open(\"train.txt\") as trainfile:\n",
    "    for i, line in enumerate(trainfile):\n",
    "        line_list = [int(k) for k in line[:-1].split(\"\\t\")];\n",
    "        vertex_dict[line_list[0]]=len(line_list)-1\n",
    "        vertex_set.add(line_list[0]);\n",
    "        vertex_followlist[line_list[0]]= line_list[1:]\n",
    "        for k in line_list[1:]:\n",
    "            vertex_followquicklist[line_list[0],k]=1\n",
    "        for s in line_list[1:]:\n",
    "            sink_followedlist[s].append(line_list[0])\n",
    "            if s in sink_dict:\n",
    "                sink_dict[s] += 1;\n",
    "            else:\n",
    "                sink_dict[s] = 1;\n",
    "        if i % 1000 == 0:\n",
    "            print(i);"
   ]
  },
  {
   "cell_type": "code",
   "execution_count": 3,
   "metadata": {},
   "outputs": [
    {
     "name": "stdout",
     "output_type": "stream",
     "text": [
      "1\n",
      "20000\n"
     ]
    }
   ],
   "source": [
    "print(sink_dict[4867135]);\n",
    "print(len(vertex_set));"
   ]
  },
  {
   "cell_type": "code",
   "execution_count": 4,
   "metadata": {},
   "outputs": [
    {
     "name": "stdout",
     "output_type": "stream",
     "text": [
      "222237\n"
     ]
    }
   ],
   "source": [
    "new_sink_dict = {};\n",
    "threshold = 20;\n",
    "for k in sink_dict:\n",
    "    if sink_dict[k] >= threshold:\n",
    "        new_sink_dict[k] = sink_dict[k];\n",
    "        \n",
    "new_sink_set = set(new_sink_dict);\n",
    "print(len(new_sink_set))"
   ]
  },
  {
   "cell_type": "code",
   "execution_count": 5,
   "metadata": {
    "scrolled": true
   },
   "outputs": [
    {
     "name": "stdout",
     "output_type": "stream",
     "text": [
      "5947\n",
      "232230\n"
     ]
    }
   ],
   "source": [
    "test_vertex_and_sink_set = set();\n",
    "\n",
    "with open(\"test-public.txt\") as testfile:\n",
    "    for i, line in enumerate(testfile):\n",
    "        if i == 0:\n",
    "            continue;\n",
    "        line_list = [int(k) for k in line[:-1].split(\"\\t\")];\n",
    "        for s in line_list:\n",
    "            test_vertex_and_sink_set.add(s);\n",
    "print(len(test_vertex_and_sink_set));\n",
    "\n",
    "total_set = test_vertex_and_sink_set.union(new_sink_set).union(vertex_set);\n",
    "print(len(total_set));"
   ]
  },
  {
   "cell_type": "code",
   "execution_count": 6,
   "metadata": {},
   "outputs": [],
   "source": [
    "total_dict = {};\n",
    "total_list = []\n",
    "for i, p in enumerate(total_set):\n",
    "    total_dict[p] = i\n",
    "    total_list.append(p)"
   ]
  },
  {
   "cell_type": "code",
   "execution_count": 7,
   "metadata": {},
   "outputs": [
    {
     "name": "stdout",
     "output_type": "stream",
     "text": [
      "0\n",
      "1000\n",
      "2000\n",
      "3000\n",
      "4000\n",
      "5000\n",
      "6000\n",
      "7000\n",
      "8000\n",
      "9000\n",
      "10000\n",
      "11000\n",
      "12000\n",
      "13000\n",
      "14000\n",
      "15000\n",
      "16000\n",
      "17000\n",
      "18000\n",
      "19000\n"
     ]
    }
   ],
   "source": [
    "max_neighbors = 1000\n",
    "\n",
    "import numpy as np\n",
    "total_array = np.array(total_list);\n",
    "\n",
    "pairs = [];\n",
    "true_pairs = [];\n",
    "\"\"\"\n",
    "\"\"\"\n",
    "\n",
    "with open(\"train.txt\") as trainfile:\n",
    "    for i, line in enumerate(trainfile):\n",
    "        line_list = [int(k) for k in line[:-1].split(\"\\t\")];\n",
    "        v = line_list[0];\n",
    "        ranking = [-sink_dict[k] for k in line_list[1:]];\n",
    "        sorting = np.argsort(ranking);\n",
    "        filtered_linelist = np.array(line_list[1:])[sorting];\n",
    "        for s in filtered_linelist[1:max_neighbors]:\n",
    "            if s in total_set:\n",
    "                pairs.append([total_dict[v], total_dict[s]]);\n",
    "        if i % 1000 == 0:\n",
    "            print(i);\n",
    "\n",
    "test_pairs = [];\n",
    "with open(\"test-public.txt\") as testfile:\n",
    "    for i, line in enumerate(testfile):\n",
    "        if i == 0:\n",
    "            continue;\n",
    "        line_list = [int(k) for k in line[:-1].split(\"\\t\")];\n",
    "        test_pairs.append([line_list[0], total_dict[line_list[1]], total_dict[line_list[2]]]);\n",
    "        \n",
    "correspondence = total_array\n",
    "\n",
    "a=0\n",
    "for i in pairs:\n",
    "    true_pairs.append([correspondence[i[0]],correspondence[i[1]]])\n"
   ]
  },
  {
   "cell_type": "code",
   "execution_count": 8,
   "metadata": {},
   "outputs": [
    {
     "name": "stdout",
     "output_type": "stream",
     "text": [
      "[4066935, 848620]\n",
      "2000\n"
     ]
    }
   ],
   "source": [
    "print (true_pairs[0])\n",
    "print (len(test_pairs))"
   ]
  },
  {
   "cell_type": "code",
   "execution_count": 64,
   "metadata": {},
   "outputs": [
    {
     "name": "stdout",
     "output_type": "stream",
     "text": [
      "(18, 0, 18)\n",
      "(0, 0, 1)\n"
     ]
    }
   ],
   "source": [
    "def findneighbor(a,b):\n",
    "    import math\n",
    "    \"\"\"\n",
    "    c is common friend\n",
    "    1.a→c→b\n",
    "    2.a→c←b\n",
    "    3.a←c→b\n",
    "    4.a←c←b\n",
    "    5. Jaccard's coeffcient common friends/total friends\n",
    "    6. Adamic/Adar \n",
    "    \"\"\"\n",
    "    tempA,tempB = [],[]\n",
    "    count6=0\n",
    "    count7=0\n",
    "    \n",
    "    if a in vertex_followlist:\n",
    "        tempA = vertex_followlist[a]\n",
    "    if b in vertex_followlist:\n",
    "        tempB = vertex_followlist[b]\n",
    "    count1,count2,count3,count4,count5,count6 = 0,0,0,0,0,0\n",
    "\n",
    "    \n",
    "    if tempA !=None and b in sink_followedlist:\n",
    "            count1=len(set(tempA).intersection(sink_followedlist[b]))\n",
    "#         for i in tempA:\n",
    "#             if i in vertex_followlist:\n",
    "#                 if (i,b) in vertex_followquicklist:\n",
    "#                     count1+=1\n",
    "#             if tempB !=None:\n",
    "#                 if (b,i) in vertex_followquicklist:\n",
    "#                     count2+=1\n",
    "                    \n",
    "    \n",
    "    \n",
    "    count2 = len(set(tempA).intersection(tempB))\n",
    "    if a in sink_followedlist and b in sink_followedlist:\n",
    "        count3 = len(set(sink_followedlist[a]).intersection(sink_followedlist[b]))\n",
    "#     if a in sink_followedlist and b in sink_followedlist:\n",
    "#         totalA = set().union(sink_followedlist[a],tempA)\n",
    "#         totalB = set().union(sink_followedlist[b],tempB)\n",
    "#         commonFriends = list(set(totalA).intersection(totalB))\n",
    "#         for commonFriend in commonFriends:\n",
    "#             if commonFriend in vertex_dict:\n",
    "#                 if commonFriend in sink_dict:\n",
    "#                     freq_comfri=vertex_dict[commonFriend]+sink_dict[commonFriend]\n",
    "#                 else:\n",
    "#                     freq_comfri=vertex_dict[commonFriend]\n",
    "#             else: \n",
    "#                 if commonFriend in sink_dict:\n",
    "#                     freq_comfri=sink_dict[commonFriend]\n",
    "#                 else:\n",
    "#                     freq_comfri=1\n",
    "#             count6+=1/math.log(freq_comfri)\n",
    "            \n",
    "#         total_AB = len(totalA.union(totalB))\n",
    "#         \"\"\"\"\"\"\n",
    "#         \"BFS\"       \n",
    "#         for x in list(totalA)\n",
    "#             if b in list(totalA):\n",
    "#                 count7=1\n",
    "#             else:\n",
    "#                 x_neighbour_list=list(set(vertex_followlist[x]).union(sink_followedlist[x]))\n",
    "#                 if b in x_neighbour_list:\n",
    "#                     \"here should be a BFS to calculate the graph distance\"        \n",
    "#         \"\"\"\"\"\"\n",
    "   \n",
    "#     for i in tempB:\n",
    "#         if i in vertex_followlist:\n",
    "#             if a in vertex_followlist[i]:\n",
    "#                 count4+=1\n",
    "                \n",
    "#     commonFriends = count1+count2+count3+count4\n",
    "#     count5 = len(commonFriends)/total_AB\n",
    "    \n",
    "#     return (count1,count2,count3,count4,count5,count6)\n",
    "    return (count1,count2,count3)\n",
    "print(findneighbor(933347,1131654))\n",
    "print(findneighbor(49037,3175009))"
   ]
  },
  {
   "cell_type": "code",
   "execution_count": 51,
   "metadata": {},
   "outputs": [
    {
     "data": {
      "text/plain": [
       "(84, 16, 14, 24, 5.25, 0.5833333333333334, 0, 0)"
      ]
     },
     "execution_count": 51,
     "metadata": {},
     "output_type": "execute_result"
    }
   ],
   "source": [
    "def countFollowingFollower(a,b):\n",
    "    \"\"\"return \n",
    "    1. a following count \n",
    "    2. a followed count\n",
    "    3. b following count\n",
    "    4. b followed count\n",
    "    5. a following/a followed\n",
    "    6. b following/b followed\n",
    "    7. if b following a\n",
    "    8. if a following b (y=label)\n",
    "\n",
    "    \"\"\"\n",
    "    count1,count2,count3,count4,count5,count6,count7,count8=0,0,0,0,0,0,0,0\n",
    "    if a in vertex_dict:\n",
    "        count1 = vertex_dict[a]\n",
    "    if b in vertex_dict:\n",
    "        count3 = vertex_dict[b]\n",
    "    if a in sink_dict:\n",
    "        count2 = sink_dict[a]\n",
    "    if b in sink_dict:\n",
    "        count4 = sink_dict[b]\n",
    "    if count2!=0:\n",
    "        count5 = count1/count2\n",
    "    else:\n",
    "        count5 = count1\n",
    "    if count4!=0:\n",
    "        count6 = count3/count4\n",
    "    else:\n",
    "        count6 = count2\n",
    "    if b in vertex_followlist:    \n",
    "        if a in vertex_followlist[b]:\n",
    "            count7=1\n",
    "    if a in vertex_followlist:    \n",
    "        if b in vertex_followlist[a]:\n",
    "            count8=1\n",
    "    return (count1,count2,count3,count4,count5,count6,count7,count8)\n",
    "#     return (count1,count2,count3,count4,count5,count6)\n",
    "\n",
    "\"\"\"\n",
    "count8  if a follow b\n",
    "\n",
    "\"\"\"\n",
    "countFollowingFollower(1406432,2481036)"
   ]
  },
  {
   "cell_type": "code",
   "execution_count": 52,
   "metadata": {},
   "outputs": [],
   "source": [
    "def distance(a,b):\n",
    "    vertex_followlist\n",
    "    "
   ]
  },
  {
   "cell_type": "code",
   "execution_count": 68,
   "metadata": {},
   "outputs": [
    {
     "name": "stdout",
     "output_type": "stream",
     "text": [
      "50\n",
      "100\n",
      "150\n",
      "200\n",
      "250\n",
      "300\n",
      "350\n",
      "400\n",
      "450\n",
      "500\n",
      "550\n"
     ]
    },
    {
     "ename": "KeyboardInterrupt",
     "evalue": "",
     "output_type": "error",
     "traceback": [
      "\u001b[1;31m---------------------------------------------------------------------------\u001b[0m",
      "\u001b[1;31mKeyboardInterrupt\u001b[0m                         Traceback (most recent call last)",
      "\u001b[1;32m<ipython-input-68-f9e7d787f6ab>\u001b[0m in \u001b[0;36m<module>\u001b[1;34m()\u001b[0m\n\u001b[0;32m      3\u001b[0m \u001b[1;32mfor\u001b[0m \u001b[0mi\u001b[0m \u001b[1;32min\u001b[0m \u001b[0mtrue_pairs\u001b[0m\u001b[1;33m:\u001b[0m\u001b[1;33m\u001b[0m\u001b[0m\n\u001b[0;32m      4\u001b[0m     \u001b[1;31m#a=countFollowingFollower(i[0],i[1])\u001b[0m\u001b[1;33m\u001b[0m\u001b[1;33m\u001b[0m\u001b[0m\n\u001b[1;32m----> 5\u001b[1;33m     \u001b[0mb\u001b[0m\u001b[1;33m=\u001b[0m\u001b[0mfindneighbor\u001b[0m\u001b[1;33m(\u001b[0m\u001b[0mi\u001b[0m\u001b[1;33m[\u001b[0m\u001b[1;36m0\u001b[0m\u001b[1;33m]\u001b[0m\u001b[1;33m,\u001b[0m\u001b[0mi\u001b[0m\u001b[1;33m[\u001b[0m\u001b[1;36m1\u001b[0m\u001b[1;33m]\u001b[0m\u001b[1;33m)\u001b[0m\u001b[1;33m\u001b[0m\u001b[0m\n\u001b[0m\u001b[0;32m      6\u001b[0m     \u001b[0mcount\u001b[0m\u001b[1;33m+=\u001b[0m\u001b[1;36m1\u001b[0m\u001b[1;33m\u001b[0m\u001b[0m\n\u001b[0;32m      7\u001b[0m     \u001b[1;31m#input_train.append([b[0],b[1],b[2],b[3],a[0],a[1],a[2],a[3],a[4],a[5],0,0])\u001b[0m\u001b[1;33m\u001b[0m\u001b[1;33m\u001b[0m\u001b[0m\n",
      "\u001b[1;32m<ipython-input-64-b4f16d4bc07c>\u001b[0m in \u001b[0;36mfindneighbor\u001b[1;34m(a, b)\u001b[0m\n\u001b[0;32m     33\u001b[0m \u001b[1;33m\u001b[0m\u001b[0m\n\u001b[0;32m     34\u001b[0m \u001b[1;33m\u001b[0m\u001b[0m\n\u001b[1;32m---> 35\u001b[1;33m     \u001b[0mcount2\u001b[0m \u001b[1;33m=\u001b[0m \u001b[0mlen\u001b[0m\u001b[1;33m(\u001b[0m\u001b[0mset\u001b[0m\u001b[1;33m(\u001b[0m\u001b[0mtempA\u001b[0m\u001b[1;33m)\u001b[0m\u001b[1;33m.\u001b[0m\u001b[0mintersection\u001b[0m\u001b[1;33m(\u001b[0m\u001b[0mtempB\u001b[0m\u001b[1;33m)\u001b[0m\u001b[1;33m)\u001b[0m\u001b[1;33m\u001b[0m\u001b[0m\n\u001b[0m\u001b[0;32m     36\u001b[0m     \u001b[1;32mif\u001b[0m \u001b[0ma\u001b[0m \u001b[1;32min\u001b[0m \u001b[0msink_followedlist\u001b[0m \u001b[1;32mand\u001b[0m \u001b[0mb\u001b[0m \u001b[1;32min\u001b[0m \u001b[0msink_followedlist\u001b[0m\u001b[1;33m:\u001b[0m\u001b[1;33m\u001b[0m\u001b[0m\n\u001b[0;32m     37\u001b[0m         \u001b[0mcount3\u001b[0m \u001b[1;33m=\u001b[0m \u001b[0mlen\u001b[0m\u001b[1;33m(\u001b[0m\u001b[0mset\u001b[0m\u001b[1;33m(\u001b[0m\u001b[0msink_followedlist\u001b[0m\u001b[1;33m[\u001b[0m\u001b[0ma\u001b[0m\u001b[1;33m]\u001b[0m\u001b[1;33m)\u001b[0m\u001b[1;33m.\u001b[0m\u001b[0mintersection\u001b[0m\u001b[1;33m(\u001b[0m\u001b[0msink_followedlist\u001b[0m\u001b[1;33m[\u001b[0m\u001b[0mb\u001b[0m\u001b[1;33m]\u001b[0m\u001b[1;33m)\u001b[0m\u001b[1;33m)\u001b[0m\u001b[1;33m\u001b[0m\u001b[0m\n",
      "\u001b[1;31mKeyboardInterrupt\u001b[0m: "
     ]
    }
   ],
   "source": [
    "input_train = []\n",
    "count=0\n",
    "for i in true_pairs:\n",
    "    #a=countFollowingFollower(i[0],i[1])\n",
    "    b=findneighbor(i[0],i[1])\n",
    "    count+=1\n",
    "    #input_train.append([b[0],b[1],b[2],b[3],a[0],a[1],a[2],a[3],a[4],a[5],0,0])\n",
    "    #input_train.append([a[0],a[1],a[2],a[3],a[4],a[5],0,0])\n",
    "    input_train.append([b[0],b[1],b[2]])\n",
    "    if count % 50 == 0:\n",
    "        print(count);\n",
    "    \n",
    "print (len(input_train))"
   ]
  },
  {
   "cell_type": "code",
   "execution_count": 67,
   "metadata": {},
   "outputs": [
    {
     "ename": "TypeError",
     "evalue": "unsupported operand type(s) for +: 'builtin_function_or_method' and 'int'",
     "output_type": "error",
     "traceback": [
      "\u001b[1;31m---------------------------------------------------------------------------\u001b[0m",
      "\u001b[1;31mTypeError\u001b[0m                                 Traceback (most recent call last)",
      "\u001b[1;32m<ipython-input-67-32eb637be860>\u001b[0m in \u001b[0;36m<module>\u001b[1;34m()\u001b[0m\n\u001b[0;32m      5\u001b[0m \u001b[0mfalse_pairs\u001b[0m \u001b[1;33m=\u001b[0m \u001b[1;33m[\u001b[0m\u001b[1;33m]\u001b[0m\u001b[1;33m\u001b[0m\u001b[0m\n\u001b[0;32m      6\u001b[0m \u001b[1;32mfor\u001b[0m \u001b[0mi\u001b[0m \u001b[1;32min\u001b[0m \u001b[0mrange\u001b[0m \u001b[1;33m(\u001b[0m\u001b[1;36m5173000\u001b[0m\u001b[1;33m)\u001b[0m\u001b[1;33m:\u001b[0m\u001b[1;33m\u001b[0m\u001b[0m\n\u001b[1;32m----> 7\u001b[1;33m     \u001b[0mrandom1\u001b[0m \u001b[1;33m=\u001b[0m \u001b[0mrandint\u001b[0m\u001b[1;33m(\u001b[0m\u001b[1;36m0\u001b[0m\u001b[1;33m,\u001b[0m \u001b[0msum\u001b[0m\u001b[1;33m)\u001b[0m\u001b[1;33m\u001b[0m\u001b[0m\n\u001b[0m\u001b[0;32m      8\u001b[0m     \u001b[0mrandom2\u001b[0m \u001b[1;33m=\u001b[0m \u001b[0mrandint\u001b[0m\u001b[1;33m(\u001b[0m\u001b[1;36m0\u001b[0m\u001b[1;33m,\u001b[0m\u001b[0msum\u001b[0m\u001b[1;33m)\u001b[0m\u001b[1;33m\u001b[0m\u001b[0m\n\u001b[0;32m      9\u001b[0m     \u001b[0mfalse_pairs\u001b[0m\u001b[1;33m.\u001b[0m\u001b[0mappend\u001b[0m\u001b[1;33m(\u001b[0m\u001b[1;33m[\u001b[0m\u001b[0mall_set_list\u001b[0m\u001b[1;33m[\u001b[0m\u001b[0mrandom1\u001b[0m\u001b[1;33m]\u001b[0m\u001b[1;33m,\u001b[0m\u001b[0mall_set_list\u001b[0m\u001b[1;33m[\u001b[0m\u001b[0mrandom2\u001b[0m\u001b[1;33m]\u001b[0m\u001b[1;33m]\u001b[0m\u001b[1;33m)\u001b[0m\u001b[1;33m\u001b[0m\u001b[0m\n",
      "\u001b[1;32mD:\\Anaconda\\lib\\random.py\u001b[0m in \u001b[0;36mrandint\u001b[1;34m(self, a, b)\u001b[0m\n\u001b[0;32m    219\u001b[0m         \"\"\"\n\u001b[0;32m    220\u001b[0m \u001b[1;33m\u001b[0m\u001b[0m\n\u001b[1;32m--> 221\u001b[1;33m         \u001b[1;32mreturn\u001b[0m \u001b[0mself\u001b[0m\u001b[1;33m.\u001b[0m\u001b[0mrandrange\u001b[0m\u001b[1;33m(\u001b[0m\u001b[0ma\u001b[0m\u001b[1;33m,\u001b[0m \u001b[0mb\u001b[0m\u001b[1;33m+\u001b[0m\u001b[1;36m1\u001b[0m\u001b[1;33m)\u001b[0m\u001b[1;33m\u001b[0m\u001b[0m\n\u001b[0m\u001b[0;32m    222\u001b[0m \u001b[1;33m\u001b[0m\u001b[0m\n\u001b[0;32m    223\u001b[0m     def _randbelow(self, n, int=int, maxsize=1<<BPF, type=type,\n",
      "\u001b[1;31mTypeError\u001b[0m: unsupported operand type(s) for +: 'builtin_function_or_method' and 'int'"
     ]
    }
   ],
   "source": [
    "sink_sum = set(sink_dict)\n",
    "all_set = sink_sum.union(vertex_set)\n",
    "sum_ = len(all_set)-1\n",
    "all_set_list = list(all_set)\n",
    "false_pairs = []\n",
    "for i in range (5173000):\n",
    "    random1 = randint(0, sum)\n",
    "    random2 = randint(0,sum)\n",
    "    false_pairs.append([all_set_list[random1],all_set_list[random2]])\n"
   ]
  },
  {
   "cell_type": "code",
   "execution_count": null,
   "metadata": {},
   "outputs": [],
   "source": [
    "count=0    \n",
    "for i in false_pairs:\n",
    "    a=countFollowingFollower(i[0],i[1])\n",
    "    b=findneighbor(i[0],i[1])\n",
    "    count+=1\n",
    "    if count % 100000 == 0:\n",
    "        print(count);\n",
    "    \n",
    "    input_train.append([b[0],b[1],b[2],b[3],b[4],b[5],a[0],a[1],a[2],a[3],a[4],a[5],a[6],a[7]])\n",
    "    \n",
    "print (len(input_train))\n",
    "    \n",
    "niubi = np.array(input_train)"
   ]
  }
 ],
 "metadata": {
  "kernelspec": {
   "display_name": "Python 3",
   "language": "python",
   "name": "python3"
  },
  "language_info": {
   "codemirror_mode": {
    "name": "ipython",
    "version": 3
   },
   "file_extension": ".py",
   "mimetype": "text/x-python",
   "name": "python",
   "nbconvert_exporter": "python",
   "pygments_lexer": "ipython3",
   "version": "3.6.5"
  }
 },
 "nbformat": 4,
 "nbformat_minor": 2
}
